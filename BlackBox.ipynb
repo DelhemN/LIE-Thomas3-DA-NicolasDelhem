{
 "cells": [
  {
   "cell_type": "code",
   "execution_count": null,
   "metadata": {},
   "outputs": [],
   "source": [
    "from langchain.agents import Tool\n",
    "from langchain import HuggingFaceHub\n",
    "from langchain_community.llms.huggingface_pipeline import HuggingFacePipeline\n",
    "from transformers import AutoModelForCausalLM, AutoTokenizer\n",
    "import os \n",
    "\n",
    "def read_token_from_file(file_path=\"Token.env\"):\n",
    "    with open(file_path, \"r\") as file:\n",
    "        return file.read().strip()\n",
    "\n",
    "HUGGINGFACEHUB_API_TOKEN = read_token_from_file(\"Token.env\")\n",
    "os.environ[\"HUGGINGFACEHUB_API_TOKEN\"] = HUGGINGFACEHUB_API_TOKEN\n",
    "\n",
    "# Load Hugging Face model and tokenizer\n",
    "model_name = \"microsoft/codebert-base\"\n",
    "model = AutoModelForCausalLM.from_pretrained(model_name)\n",
    "tokenizer = AutoTokenizer.from_pretrained(model_name)\n",
    "\n",
    "# Set up Hugging Face components\n",
    "pipeline = HuggingFacePipeline(model=model_name, api_token=HUGGINGFACEHUB_API_TOKEN)\n",
    "\n",
    "# Define intents, entities, and agents\n",
    "intents = [\"code_suggestion\", \"error_explanation\", \"documentation_lookup\"]\n",
    "entities = [\"code_snippet\", \"error_message\", \"api_name\"]\n",
    "\n",
    "@Tool\n",
    "def code_suggestion_agent(prompt):\n",
    "    completions = pipeline(prompt)\n",
    "    return completions\n",
    "\n",
    "@Tool\n",
    "def error_explanation_agent(error_message):\n",
    "    explanation = pipeline(f\"Explain this error: {error_message}\")\n",
    "    return explanation\n",
    "\n",
    "@Tool\n",
    "def documentation_agent(api_name):\n",
    "    docs = pipeline(f\"Find documentation for {api_name}\")\n",
    "    return docs\n",
    "\n",
    "# Register agents\n",
    "manager = HuggingFaceHub()\n",
    "manager.register_tool(code_suggestion_agent, intents=[\"code_suggestion\"])\n",
    "manager.register_tool(error_explanation_agent, intents=[\"error_explanation\"])\n",
    "manager.register_tool(documentation_agent, intents=[\"documentation_lookup\"])\n",
    "\n",
    "# Conversation loop\n",
    "while True:\n",
    "    user_input = input(\"You: \")\n",
    "    intent, entities = manager.classify_intent(user_input)\n",
    "    response = manager.execute(intent, entities)\n",
    "    print(\"Chatbot: \", response)\n"
   ]
  }
 ],
 "metadata": {
  "kernelspec": {
   "display_name": "GathererImmo",
   "language": "python",
   "name": "python3"
  },
  "language_info": {
   "codemirror_mode": {
    "name": "ipython",
    "version": 3
   },
   "file_extension": ".py",
   "mimetype": "text/x-python",
   "name": "python",
   "nbconvert_exporter": "python",
   "pygments_lexer": "ipython3",
   "version": "3.11.5"
  }
 },
 "nbformat": 4,
 "nbformat_minor": 2
}
