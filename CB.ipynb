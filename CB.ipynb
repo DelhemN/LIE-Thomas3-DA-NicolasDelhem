{
 "cells": [
  {
   "cell_type": "code",
   "execution_count": 2,
   "metadata": {},
   "outputs": [
    {
     "ename": "ModuleNotFoundError",
     "evalue": "No module named 'langchain.encoders'",
     "output_type": "error",
     "traceback": [
      "\u001b[1;31m---------------------------------------------------------------------------\u001b[0m",
      "\u001b[1;31mModuleNotFoundError\u001b[0m                       Traceback (most recent call last)",
      "Cell \u001b[1;32mIn[2], line 3\u001b[0m\n\u001b[0;32m      1\u001b[0m \u001b[38;5;28;01mimport\u001b[39;00m \u001b[38;5;21;01mlangchain\u001b[39;00m\n\u001b[0;32m      2\u001b[0m \u001b[38;5;28;01mfrom\u001b[39;00m \u001b[38;5;21;01mlangchain\u001b[39;00m\u001b[38;5;21;01m.\u001b[39;00m\u001b[38;5;21;01magents\u001b[39;00m \u001b[38;5;28;01mimport\u001b[39;00m Agent\n\u001b[1;32m----> 3\u001b[0m \u001b[38;5;28;01mfrom\u001b[39;00m \u001b[38;5;21;01mlangchain\u001b[39;00m\u001b[38;5;21;01m.\u001b[39;00m\u001b[38;5;21;01mencoders\u001b[39;00m \u001b[38;5;28;01mimport\u001b[39;00m TextEncoderDecoder\n\u001b[0;32m      4\u001b[0m \u001b[38;5;28;01mfrom\u001b[39;00m \u001b[38;5;21;01mlangchain\u001b[39;00m\u001b[38;5;21;01m.\u001b[39;00m\u001b[38;5;21;01mprompts\u001b[39;00m \u001b[38;5;28;01mimport\u001b[39;00m Prompt\n\u001b[0;32m      6\u001b[0m \u001b[38;5;66;03m# Initialize the LangChain engine\u001b[39;00m\n",
      "\u001b[1;31mModuleNotFoundError\u001b[0m: No module named 'langchain.encoders'"
     ]
    }
   ],
   "source": [
    "import langchain\n",
    "from langchain.agents import Agent\n",
    "from langchain.encoders import TextEncoderDecoder\n",
    "from langchain.prompts import Prompt\n",
    "\n",
    "# Initialize the LangChain engine\n",
    "engine = langchain.Engine()\n",
    "\n",
    "# Define the encoder and decoder\n",
    "encoder = TextEncoderDecoder(tokenizer=\"tokenizers/roberta-base\")\n",
    "\n",
    "# Define agents for code suggestions, error handling, and documentation reference\n",
    "code_suggestions_agent = Agent(\n",
    "    name=\"code_suggestions\",\n",
    "    encoder=encoder,\n",
    "    decoder=encoder,\n",
    "    prompt=Prompt(\"Provide code suggestions for the user's query\"),\n",
    ")\n",
    "\n",
    "error_handling_agent = Agent(\n",
    "    name=\"error_handling\",\n",
    "    encoder=encoder,\n",
    "    decoder=encoder,\n",
    "    prompt=\"Provide guidance and solutions for common programming errors\",\n",
    ")\n",
    "\n",
    "documentation_reference_agent = Agent(\n",
    "    name=\"documentation_reference\",\n",
    "    encoder=encoder,\n",
    "    decoder=encoder,\n",
    "    prompt=\"Provide links to relevant documentation pages\",\n",
    ")\n",
    "\n",
    "# Load the Hugging Face Transformers model\n",
    "model = hf.transformers.AutoModelForQuestionAnswering.from_pretrained(\"facebook/bart-base\")\n",
    "\n",
    "# Integrate the Hugging Face Transformers model into the agents\n",
    "code_suggestions_agent.register_prompt_handler(\n",
    "    Prompt(\"Generate code snippets for the user's query\"), model\n",
    ")\n",
    "\n",
    "error_handling_agent.register_prompt_handler(\n",
    "    Prompt(\"Explain and suggest solutions for the user's error message\"), model\n",
    ")\n",
    "\n",
    "documentation_reference_agent.register_prompt_handler(\n",
    "    Prompt(\"Provide relevant documentation links for the user's query\"), model\n",
    ")\n",
    "\n",
    "# Define the conversation flow\n",
    "conversation_flow = [code_suggestions_agent, error_handling_agent, documentation_reference_agent]\n",
    "\n",
    "# Define the user interface\n",
    "def interact():\n",
    "    while True:\n",
    "        user_input = input(\"User: \")\n",
    "        encoded_user_input = encoder(user_input)\n",
    "\n",
    "        # Send user input to the conversation flow\n",
    "        responses = engine(conversation_flow, encoded_user_input)\n",
    "\n",
    "        # Print chatbot responses\n",
    "        for response in responses:\n",
    "            print(\"Chatbot:\", encoder(response))\n",
    "\n",
    "interact()\n"
   ]
  }
 ],
 "metadata": {
  "kernelspec": {
   "display_name": "GathererImmo",
   "language": "python",
   "name": "python3"
  },
  "language_info": {
   "codemirror_mode": {
    "name": "ipython",
    "version": 3
   },
   "file_extension": ".py",
   "mimetype": "text/x-python",
   "name": "python",
   "nbconvert_exporter": "python",
   "pygments_lexer": "ipython3",
   "version": "3.11.5"
  }
 },
 "nbformat": 4,
 "nbformat_minor": 2
}
