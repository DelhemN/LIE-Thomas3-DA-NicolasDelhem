{
 "cells": [
  {
   "cell_type": "code",
   "execution_count": 17,
   "metadata": {},
   "outputs": [],
   "source": [
    "from langchain.llms import Ollama \n",
    "from langchain.callbacks.manager import CallbackManager\n",
    "from langchain.callbacks.streaming_stdout import StreamingStdOutCallbackHandler\n",
    "\n"
   ]
  },
  {
   "cell_type": "code",
   "execution_count": 18,
   "metadata": {},
   "outputs": [
    {
     "name": "stdout",
     "output_type": "stream",
     "text": [
      "Of course! Here are 5 interesting things about the Moon:\n",
      "\n",
      "1. The Moon is not a perfect sphere. It is slightly flattened at the poles and bulging at the equator due to its rotational movement.\n",
      "2. The Moon's surface is covered in craters, with over 600 known craters that are larger than 10 km (6.2 miles) in diameter. The largest crater is the Aitken Basin, which has a diameter of about 2,500 km (1,553 miles).\n",
      "3. The Moon's gravity is only about 17% of Earth's gravity, which means that if you weighed 100 pounds on Earth, you would weigh only about 17 pounds on the Moon.\n",
      "4. The Moon's surface temperature can range from -243°C to 127°C (-405°F to 261°F), making it one of the most extreme temperature environments in our solar system.\n",
      "5. The Moon has no atmosphere, which means that there is no wind or weather on its surface. This also means that there are no meteorological phenomena like hurricanes or tornadoes.\n",
      "\n",
      "I hope you find these facts interesting! Is there anything else you would like to know about the Moon?{'topic': 'the moon', 'text': \"Of course! Here are 5 interesting things about the Moon:\\n\\n1. The Moon is not a perfect sphere. It is slightly flattened at the poles and bulging at the equator due to its rotational movement.\\n2. The Moon's surface is covered in craters, with over 600 known craters that are larger than 10 km (6.2 miles) in diameter. The largest crater is the Aitken Basin, which has a diameter of about 2,500 km (1,553 miles).\\n3. The Moon's gravity is only about 17% of Earth's gravity, which means that if you weighed 100 pounds on Earth, you would weigh only about 17 pounds on the Moon.\\n4. The Moon's surface temperature can range from -243°C to 127°C (-405°F to 261°F), making it one of the most extreme temperature environments in our solar system.\\n5. The Moon has no atmosphere, which means that there is no wind or weather on its surface. This also means that there are no meteorological phenomena like hurricanes or tornadoes.\\n\\nI hope you find these facts interesting! Is there anything else you would like to know about the Moon?\"}\n"
     ]
    }
   ],
   "source": [
    "llm = Ollama(model = \"llama2\",\n",
    "             #callback_manager = CallbackManager([StreamingStdOutCallbackHandler()]),\n",
    "             temperature = 0.9,\n",
    "             )\n",
    "\n",
    "from langchain.prompts import PromptTemplate\n",
    "\n",
    "prompt = PromptTemplate(\n",
    "    input_variables = [\"topic\"],\n",
    "    template = \"Give me 5 interesting things about {topic}?\"\n",
    ")\n",
    "\n",
    "from langchain import LLMChain\n",
    "chain = LLMChain(llm = llm, \n",
    "                 prompt = prompt,\n",
    "                  verbose = False )\n",
    "\n",
    "print(chain.invoke(\"the moon\"))"
   ]
  },
  {
   "cell_type": "code",
   "execution_count": null,
   "metadata": {},
   "outputs": [],
   "source": []
  }
 ],
 "metadata": {
  "kernelspec": {
   "display_name": "GathererImmo",
   "language": "python",
   "name": "python3"
  },
  "language_info": {
   "codemirror_mode": {
    "name": "ipython",
    "version": 3
   },
   "file_extension": ".py",
   "mimetype": "text/x-python",
   "name": "python",
   "nbconvert_exporter": "python",
   "pygments_lexer": "ipython3",
   "version": "3.11.5"
  }
 },
 "nbformat": 4,
 "nbformat_minor": 2
}
