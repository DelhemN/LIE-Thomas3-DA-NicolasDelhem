{
 "cells": [
  {
   "cell_type": "code",
   "execution_count": 1,
   "metadata": {},
   "outputs": [
    {
     "name": "stderr",
     "output_type": "stream",
     "text": [
      "2024-01-12 16:44:09.479 \n",
      "  \u001b[33m\u001b[1mWarning:\u001b[0m to view this Streamlit app on a browser, run it with the following\n",
      "  command:\n",
      "\n",
      "    streamlit run c:\\Users\\nicol\\anaconda3\\envs\\GathererImmo\\Lib\\site-packages\\ipykernel_launcher.py [ARGUMENTS]\n"
     ]
    }
   ],
   "source": [
    "from langchain_community.llms import Ollama\n",
    "import streamlit as st\n",
    "\n",
    "# Instantiate the Ollama model\n",
    "llm = Ollama(model=\"codellama\")\n",
    "\n",
    "# Streamlit app\n",
    "st.title(\"Ollama Code Generation\")\n",
    "\n",
    "# User input for the prompt\n",
    "prompt = st.text_input(\"Enter your programming prompt:\")\n",
    "\n",
    "# Button to generate response\n",
    "if st.button(\"Generate Code\"):\n",
    "    # Invoke Ollama with user input\n",
    "    response = llm.invoke(prompt)\n",
    "\n",
    "    # Display the generated code\n",
    "    st.code(response, language='python')\n"
   ]
  }
 ],
 "metadata": {
  "kernelspec": {
   "display_name": "GathererImmo",
   "language": "python",
   "name": "python3"
  },
  "language_info": {
   "codemirror_mode": {
    "name": "ipython",
    "version": 3
   },
   "file_extension": ".py",
   "mimetype": "text/x-python",
   "name": "python",
   "nbconvert_exporter": "python",
   "pygments_lexer": "ipython3",
   "version": "3.11.5"
  }
 },
 "nbformat": 4,
 "nbformat_minor": 2
}
