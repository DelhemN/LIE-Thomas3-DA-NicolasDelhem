{
 "cells": [
  {
   "cell_type": "code",
   "execution_count": 3,
   "metadata": {},
   "outputs": [],
   "source": [
    "from langchain_community.llms import Ollama\n",
    "\n",
    "llm = Ollama(model = \"codellama\")\n",
    "\n"
   ]
  },
  {
   "cell_type": "code",
   "execution_count": 4,
   "metadata": {},
   "outputs": [
    {
     "data": {
      "text/plain": [
       "'\\nTo build a class in Python, you need to define a new class using the `class` keyword. Here is an example of how to create a simple class called `Person`:\\n```\\nclass Person:\\n    def __init__(self, name, age):\\n        self.name = name\\n        self.age = age\\n\\n    def say_hello(self):\\n        print(\"Hello, my name is\", self.name)\\n\\nperson1 = Person(\"Alice\", 30)\\nperson2 = Person(\"Bob\", 35)\\n```\\nIn this example, the `Person` class has two attributes: `name` and `age`. The `__init__` method is used to initialize the class with the given name and age. The `say_hello` method prints a message that includes the person\\'s name.\\n\\nYou can create instances of the `Person` class by calling the constructor, like this:\\n```\\nperson1 = Person(\"Alice\", 30)\\nperson2 = Person(\"Bob\", 35)\\n```\\nOnce you have created instances of the class, you can call methods on them to interact with the instance. For example:\\n```\\nperson1.say_hello()  # prints \"Hello, my name is Alice\"\\nperson2.say_hello()  # prints \"Hello, my name is Bob\"\\n```\\nYou can also define other methods in the class, and call them on instances of the class to perform different actions. For example:\\n```\\nclass Person:\\n    def __init__(self, name, age):\\n        self.name = name\\n        self.age = age\\n\\n    def say_hello(self):\\n        print(\"Hello, my name is\", self.name)\\n\\n    def greet(self, other_person):\\n        print(f\"{self.name} says hello to {other_person.name}\")\\n\\nperson1 = Person(\"Alice\", 30)\\nperson2 = Person(\"Bob\", 35)\\n\\nperson1.greet(person2)  # prints \"Alice says hello to Bob\"\\n```\\nIn this example, the `greet` method takes another instance of the `Person` class as an argument, and prints a message that includes both names.'"
      ]
     },
     "execution_count": 4,
     "metadata": {},
     "output_type": "execute_result"
    }
   ],
   "source": [
    "llm.invoke(\"How can I build a Class in Python? With codes samples!\")"
   ]
  }
 ],
 "metadata": {
  "kernelspec": {
   "display_name": "GathererImmo",
   "language": "python",
   "name": "python3"
  },
  "language_info": {
   "codemirror_mode": {
    "name": "ipython",
    "version": 3
   },
   "file_extension": ".py",
   "mimetype": "text/x-python",
   "name": "python",
   "nbconvert_exporter": "python",
   "pygments_lexer": "ipython3",
   "version": "3.11.5"
  }
 },
 "nbformat": 4,
 "nbformat_minor": 2
}
