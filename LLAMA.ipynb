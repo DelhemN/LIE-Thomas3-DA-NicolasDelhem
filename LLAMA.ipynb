{
 "cells": [
  {
   "cell_type": "code",
   "execution_count": 2,
   "metadata": {},
   "outputs": [],
   "source": [
    "from langchain_community.llms import Ollama\n",
    "\n",
    "llm = Ollama(model=\"llama2\")"
   ]
  },
  {
   "cell_type": "code",
   "execution_count": 3,
   "metadata": {},
   "outputs": [
    {
     "data": {
      "text/plain": [
       "'Langsmith is a tool that can be used for testing, particularly in the context of software development. Here are some ways Langsmith can help with testing:\\n\\n1. Code Generation: Langsmith can generate test cases automatically based on the source code, which can save time and effort compared to manual testing.\\n2. Test Case Optimization: Langsmith can optimize test cases by identifying the most effective and efficient tests to run first, reducing the overall testing time and resources required.\\n3. Test Data Generation: Langsmith can generate test data automatically, which can be used to test different scenarios and inputs. This can help ensure that the software is robust and can handle a wide range of inputs and conditions.\\n4. Coverage Analysis: Langsmith can analyze the coverage of the tests run, identifying areas of the code that are not being tested adequately. This can help identify potential weaknesses in the software and inform future testing efforts.\\n5. Defect Prediction: Langsmith can predict potential defects in the software based on statistical models and machine learning algorithms. This can help identify potential issues before they become actual problems.\\n6. Test Prioritization: Langsmith can prioritize tests based on risk and complexity, helping to ensure that the most critical tests are run first.\\n7. Automated Testing: Langsmith can be used to automate testing efforts, reducing the need for manual testing and increasing testing efficiency.\\n8. Continuous Integration/Continuous Deployment (CI/CD): Langsmith can be integrated into a CI/CD pipeline, enabling automated testing and deployment of software changes.\\n9. Testing for Security: Langsmith can be used to identify potential security vulnerabilities in the software by analyzing the code for potential weaknesses and exploits.\\n10. Collaboration: Langsmith can facilitate collaboration among team members, enabling them to work together more effectively on testing efforts.\\n\\nBy using Langsmith for testing, developers can save time and effort, improve test coverage, and reduce the likelihood of defects making it into production.'"
      ]
     },
     "execution_count": 3,
     "metadata": {},
     "output_type": "execute_result"
    }
   ],
   "source": [
    "llm.invoke(\"how can langsmith help with testing? \")"
   ]
  },
  {
   "cell_type": "code",
   "execution_count": 4,
   "metadata": {},
   "outputs": [],
   "source": [
    "from langchain_core.prompts import ChatPromptTemplate\n",
    "\n",
    "prompt = ChatPromptTemplate.from_messages([\n",
    "    (\"system\", \"You are world class technical documentation writer.\"),\n",
    "    (\"user\", \"{input}\")\n",
    "])"
   ]
  },
  {
   "cell_type": "code",
   "execution_count": 5,
   "metadata": {},
   "outputs": [],
   "source": [
    "chain = prompt | llm "
   ]
  },
  {
   "cell_type": "code",
   "execution_count": 6,
   "metadata": {},
   "outputs": [
    {
     "data": {
      "text/plain": [
       "'\\nAh, an excellent question! As a world-class technical documentation writer, I must say that LangSmith is a fantastic tool for testing and documenting various aspects of your software or application. Here are some ways in which LangSmith can help with testing:\\n\\n1. Automated Testing: LangSmith allows you to create automated tests for your software using its powerful test management features. You can create test cases, run them, and analyze the results with ease. This can significantly reduce the time and effort required for manual testing.\\n2. Collaboration: LangSmith enables seamless collaboration among team members during the testing process. You can assign tasks to team members, set deadlines, and track progress in real-time. This ensures that everyone is on the same page and working towards the same goal.\\n3. Customization: LangSmith offers a wide range of customization options for creating tests. You can create test suites based on your specific requirements, and tailor them to your testing needs. This flexibility ensures that you can test every aspect of your software thoroughly.\\n4. Integration with Other Tools: LangSmith integrates seamlessly with other tools and platforms, such as JIRA, Git, and Jenkins. This allows you to streamline your testing process and avoid duplication of efforts.\\n5. Reporting and Analytics: LangSmith provides detailed reporting and analytics capabilities that help you identify areas of improvement in your software. You can track test execution, test results, and defects with ease, and make data-driven decisions to improve the quality of your software.\\n6. Workflow Management: LangSmith offers a robust workflow management system that helps you manage testing tasks and processes efficiently. You can create custom workflows, assign tasks to team members, and track progress in real-time.\\n7. Test Data Management: LangSmith provides a test data management feature that allows you to store and manage test data securely. This ensures that your test data is not compromised or corrupted during the testing process.\\n8. Integration with CI/CD Pipelines: LangSmith integrates seamlessly with CI/CD pipelines, such as Jenkins, Travis CI, CircleCI, and GitHub Actions. This allows you to automate your testing process and deploy high-quality software quickly and efficiently.\\n9. Security Testing: LangSmith provides security testing features that help you identify vulnerabilities in your software. You can test for security weaknesses, such as SQL injection, cross-site scripting (XSS), and other common web application attacks.\\n10. User Interface Customization: LangSmith offers a user-friendly interface that can be customized to meet your specific needs. You can create custom test suites, run tests, and analyze results with ease, without requiring any coding or technical knowledge.\\n\\nIn conclusion, LangSmith is an invaluable tool for testing and documenting software applications. Its wide range of features and capabilities make it a reliable and efficient solution for automating the testing process, ensuring high-quality output, and streamlining the development lifecycle.'"
      ]
     },
     "execution_count": 6,
     "metadata": {},
     "output_type": "execute_result"
    }
   ],
   "source": [
    "chain.invoke({\"input\": \"how can langsmith help with testing?\"})"
   ]
  },
  {
   "cell_type": "code",
   "execution_count": 7,
   "metadata": {},
   "outputs": [],
   "source": [
    "from langchain_core.output_parsers import StrOutputParser\n",
    "\n",
    "output_parser = StrOutputParser()"
   ]
  },
  {
   "cell_type": "code",
   "execution_count": 8,
   "metadata": {},
   "outputs": [],
   "source": [
    "chain = prompt | llm | output_parser"
   ]
  },
  {
   "cell_type": "code",
   "execution_count": 9,
   "metadata": {},
   "outputs": [
    {
     "data": {
      "text/plain": [
       "\"As a world-class technical documentation writer, I must say that LangSmith is an excellent tool for testing and ensuring the quality of your documentation. Here are some ways in which LangSmith can help with testing:\\n\\n1. Grammar and Spelling Checks: LangSmith's grammar and spelling checks are extremely accurate and can help identify any grammatical errors, misspellings, or punctuation mistakes in your documentation. This feature can save you a lot of time and effort in identifying and fixing these issues.\\n2. Style Guidance: LangSmith provides style guidance based on the guidelines of various styles, including APA, MLA, and Chicago. By following these guidelines, you can ensure that your documentation is consistent and well-structured, which is important for effective communication with your audience.\\n3. Consistency Checks: LangSmith's consistency checks help identify inconsistencies in your documentation, such as inconsistent formatting, lack of headings or subheadings, and missing citations or references. By addressing these inconsistencies, you can improve the overall quality and readability of your documentation.\\n4. Clarity Checks: LangSmith's clarity checks help identify areas in your documentation where the language may be confusing or unclear. By addressing these issues, you can improve the clarity and readability of your documentation, making it easier for your audience to understand the information.\\n5. Tone and Voice Analysis: LangSmith's tone and voice analysis helps identify any inconsistencies in your writing style, such as being too formal or informal, or using a tone that is not appropriate for your audience. By adjusting your tone and voice to better align with your audience, you can improve the effectiveness of your documentation.\\n6. Plagiarism Detection: LangSmith's plagiarism detection feature helps identify any instances of plagiarism in your documentation, which can be a serious issue in academic or professional settings. By detecting and addressing any instances of plagiarism, you can ensure the originality and credibility of your work.\\n\\nOverall, LangSmith is an invaluable tool for testing and ensuring the quality of technical documentation. Its advanced features and capabilities can help you identify and fix a wide range of issues, from grammatical errors to inconsistencies in style and tone. By using LangSmith, you can ensure that your documentation is clear, consistent, and free of errors, which can help build trust with your audience and enhance the overall effectiveness of your communication.\""
      ]
     },
     "execution_count": 9,
     "metadata": {},
     "output_type": "execute_result"
    }
   ],
   "source": [
    "chain.invoke({\"input\": \"how can langsmith help with testing?\"})"
   ]
  },
  {
   "cell_type": "code",
   "execution_count": 10,
   "metadata": {},
   "outputs": [],
   "source": [
    "from langchain_community.llms import Ollama\n",
    "from langchain_community.chat_models import ChatOllama\n",
    "\n",
    "llm = Ollama(model=\"llama2\")\n",
    "chat_model = ChatOllama()"
   ]
  },
  {
   "cell_type": "code",
   "execution_count": 11,
   "metadata": {},
   "outputs": [
    {
     "data": {
      "text/plain": [
       "AIMessage(content='Here are some suggestions for a company name for a company that makes colorful socks:\\n\\n1. SoleColors - This name plays on the word \"soul\" and \"colors\" to create a fun and catchy name for a sock company.\\n2. FootHues - This name combines the words \"foot\" and \"hues\" to create a unique and memorable name for a sock company.\\n3. AnkleArt - This name emphasizes the artistic aspect of colorful socks and could appeal to customers looking for stylish footwear.\\n4. SockSplash - This name plays on the idea of a splash of color and could be used for a company that specializes in bright and bold socks.\\n5. ToeTastic - This name combines the words \"toe\" and \"fantastic\" to create a fun and playful name for a sock company.\\n6. HappiFeet - This name emphasizes the idea of happy feet and could be used for a company that specializes in colorful and comfortable socks.\\n7. SockSations - This name combines the words \"sock\" and \"situations\" to create a unique and memorable name for a sock company.\\n8. FunkyToes - This name emphasizes the fun and playful aspect of colorful socks and could appeal to customers looking for stylish footwear.\\n9. SoleMates - This name plays on the idea of matching socks and could be used for a company that specializes in colorful and coordinating socks.\\n10. FootFlair - This name emphasizes the flair and style of colorful socks and could be used for a company that specializes in stylish and fashionable footwear.')"
      ]
     },
     "execution_count": 11,
     "metadata": {},
     "output_type": "execute_result"
    }
   ],
   "source": [
    "from langchain.schema import HumanMessage\n",
    "\n",
    "\n",
    "text = \"What would be a good company name for a company that makes colorful socks?\"\n",
    "messages = [HumanMessage(content=text)]\n",
    "\n",
    "llm.invoke(text)\n",
    "# >> Feetful of Fun\n",
    "\n",
    "chat_model.invoke(messages)\n",
    "# >> AIMessage(content=\"Socks O'Color\")"
   ]
  },
  {
   "cell_type": "code",
   "execution_count": 12,
   "metadata": {},
   "outputs": [
    {
     "data": {
      "text/plain": [
       "'What is a good name for a company that makes colorful socks?'"
      ]
     },
     "execution_count": 12,
     "metadata": {},
     "output_type": "execute_result"
    }
   ],
   "source": [
    "from langchain.prompts import PromptTemplate\n",
    "\n",
    "prompt = PromptTemplate.from_template(\"What is a good name for a company that makes {product}?\")\n",
    "prompt.format(product=\"colorful socks\")"
   ]
  },
  {
   "cell_type": "code",
   "execution_count": 13,
   "metadata": {},
   "outputs": [
    {
     "data": {
      "text/plain": [
       "[SystemMessage(content='You are a helpful assistant that translates English to French.'),\n",
       " HumanMessage(content='I love programming.')]"
      ]
     },
     "execution_count": 13,
     "metadata": {},
     "output_type": "execute_result"
    }
   ],
   "source": [
    "from langchain.prompts.chat import ChatPromptTemplate\n",
    "\n",
    "template = \"You are a helpful assistant that translates {input_language} to {output_language}.\"\n",
    "human_template = \"{text}\"\n",
    "\n",
    "chat_prompt = ChatPromptTemplate.from_messages([\n",
    "    (\"system\", template),\n",
    "    (\"human\", human_template),\n",
    "])\n",
    "\n",
    "chat_prompt.format_messages(input_language=\"English\", output_language=\"French\", text=\"I love programming.\")"
   ]
  },
  {
   "cell_type": "code",
   "execution_count": 14,
   "metadata": {},
   "outputs": [
    {
     "data": {
      "text/plain": [
       "['hi', 'bye']"
      ]
     },
     "execution_count": 14,
     "metadata": {},
     "output_type": "execute_result"
    }
   ],
   "source": [
    "from langchain.output_parsers import CommaSeparatedListOutputParser\n",
    "\n",
    "output_parser = CommaSeparatedListOutputParser()\n",
    "output_parser.parse(\"hi, bye\")\n",
    "# >> ['hi', 'bye']"
   ]
  },
  {
   "cell_type": "code",
   "execution_count": 15,
   "metadata": {},
   "outputs": [
    {
     "data": {
      "text/plain": [
       "['Of course! Here are 5 colors for you:\\n\\nBlue',\n",
       " 'Green',\n",
       " 'Yellow',\n",
       " 'Purple',\n",
       " 'Orange']"
      ]
     },
     "execution_count": 15,
     "metadata": {},
     "output_type": "execute_result"
    }
   ],
   "source": [
    "template = \"Generate a list of 5 {text}.\\n\\n{format_instructions}\"\n",
    "\n",
    "chat_prompt = ChatPromptTemplate.from_template(template)\n",
    "chat_prompt = chat_prompt.partial(format_instructions=output_parser.get_format_instructions())\n",
    "chain = chat_prompt | chat_model | output_parser\n",
    "chain.invoke({\"text\": \"colors\"})\n",
    "# >> ['red', 'blue', 'green', 'yellow', 'orange']"
   ]
  }
 ],
 "metadata": {
  "kernelspec": {
   "display_name": "GathererImmo",
   "language": "python",
   "name": "python3"
  },
  "language_info": {
   "codemirror_mode": {
    "name": "ipython",
    "version": 3
   },
   "file_extension": ".py",
   "mimetype": "text/x-python",
   "name": "python",
   "nbconvert_exporter": "python",
   "pygments_lexer": "ipython3",
   "version": "3.11.5"
  }
 },
 "nbformat": 4,
 "nbformat_minor": 2
}
