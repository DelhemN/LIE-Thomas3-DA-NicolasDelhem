{
 "cells": [
  {
   "cell_type": "code",
   "execution_count": 2,
   "metadata": {},
   "outputs": [],
   "source": [
    "from langchain_community.llms import Ollama\n",
    "\n",
    "llm = Ollama(model=\"llama2\")"
   ]
  },
  {
   "cell_type": "code",
   "execution_count": 3,
   "metadata": {},
   "outputs": [
    {
     "data": {
      "text/plain": [
       "\"Langsmith is a tool that helps developers and testers create, run, and manage automated tests for their software applications. Here are some ways in which Langsmith can help with testing:\\n\\n1. Automating Testing Processes: Langsmith can help automate various testing processes such as unit testing, integration testing, functional testing, and acceptance testing. This can save time and reduce the workload of testers, allowing them to focus on more complex tasks.\\n2. Creating Test Cases: Langsmith provides a user-friendly interface for creating test cases, which can be used to test different aspects of an application. Testers can create test cases based on their requirements and run them automatically.\\n3. Executing Tests: Langsmith can execute tests automatically, saving time and effort compared to manual testing. It can also run multiple tests in parallel, reducing the overall testing time.\\n4. Reporting and Analytics: Langsmith provides detailed reports and analytics on test execution, including test coverage, test results, and defects found. This helps developers identify areas that need improvement and ensure that all tests have been executed successfully.\\n5. Integration with CI/CD Pipelines: Langsmith can integrate with Continuous Integration (CI) and Continuous Deployment (CD) pipelines, allowing for seamless testing as part of the development process. This helps ensure that tests are run automatically whenever code changes are pushed to the repository.\\n6. Selenium Integration: Langsmith supports integration with Selenium, a popular tool for automating web browsers. This allows testers to create and run tests using Selenium's capabilities, such as simulating user interactions and testing web applications.\\n7. Test Management: Langsmith provides features for managing tests, including test case management, test execution, and defect tracking. This helps ensure that all tests are properly organized and tracked throughout the testing process.\\n8. Collaboration Tools: Langsmith offers collaboration tools for teams to work together on testing projects. Testers can assign tasks, share results, and track progress in real-time, improving communication and efficiency.\\n9. Customization: Langsmith allows users to customize their testing environment by creating custom test suites, test cases, and test scripts. This enables testers to tailor the tool to their specific needs and requirements.\\n10. Integration with Other Tools: Langsmith can integrate with other tools and frameworks commonly used in software development, such as JIRA, Jenkins, and Travis CI. This allows for seamless testing and integration with the broader development process.\""
      ]
     },
     "execution_count": 3,
     "metadata": {},
     "output_type": "execute_result"
    }
   ],
   "source": [
    "llm.invoke(\"how can langsmith help with testing? \")"
   ]
  },
  {
   "cell_type": "code",
   "execution_count": 5,
   "metadata": {},
   "outputs": [],
   "source": [
    "from langchain_core.prompts import ChatPromptTemplate\n",
    "\n",
    "prompt = ChatPromptTemplate.from_messages([\n",
    "    (\"system\", \"You are world class technical documentation writer.\"),\n",
    "    (\"user\", \"{input}\")\n",
    "])"
   ]
  },
  {
   "cell_type": "code",
   "execution_count": 6,
   "metadata": {},
   "outputs": [],
   "source": [
    "chain = prompt | llm "
   ]
  },
  {
   "cell_type": "code",
   "execution_count": 7,
   "metadata": {},
   "outputs": [
    {
     "data": {
      "text/plain": [
       "\"\\nAs a world-class technical documentation writer, I'm glad you asked! Langsmith is more than just a tool for creating and managing technical documents - it can also be leveraged to streamline the testing process. Here are some ways Langsmith can help with testing:\\n\\n1. Test Case Creation: Langsmith allows you to create and organize test cases based on your documentation, making it easier to identify and prioritize tests for each feature or functionality. You can use Langsmith's workflow features to create and manage test cases, track progress, and collaborate with team members.\\n2. Automated Testing: With Langsmith's integration with automated testing tools like Selenium, you can create and run automated tests directly from your documentation. This ensures that your documentation is up-to-date and accurate, and helps identify issues early on in the development process.\\n3. Collaboration and Feedback: Langsmith enables real-time collaboration and feedback among team members, allowing for better coordination and communication during the testing process. You can assign tasks, set deadlines, and track progress to ensure that everyone is on the same page.\\n4. Documentation Integration: Langsmith integrates with popular documentation tools like JIRA, Confluence, and GitHub, allowing you to create and manage technical documentation alongside your testing efforts. This ensures that your documentation is always up-to-date and accurate, and helps ensure that your team is working off the same version of the documentation.\\n5. Test Reporting: Langsmith provides detailed reporting capabilities, allowing you to track progress, identify issues, and measure test coverage. You can generate reports on individual tests or entire suites, providing valuable insights into the testing process and helping you make informed decisions about future development.\\n6. Customization: Langsmith is highly customizable, allowing you to tailor the platform to your specific testing needs. You can create custom test types, add custom fields to your test cases, and even integrate Langsmith with your existing testing infrastructure.\\n7. Mobile and Web App Testing: With Langsmith's built-in support for mobile and web app testing, you can easily create and manage tests for these platforms directly from your documentation. This ensures that your documentation is up-to-date and accurate, and helps identify issues early on in the development process.\\n8. Integration with CI/CD Pipelines: Langsmith can integrate with your continuous integration (CI) and continuous deployment (CD) pipelines, allowing you to automate testing and ensure that your documentation is always up-to-date and accurate.\\n\\nBy leveraging these features, you can streamline your testing process, improve collaboration and communication among team members, and ensure that your technical documentation is always up-to-date and accurate.\""
      ]
     },
     "execution_count": 7,
     "metadata": {},
     "output_type": "execute_result"
    }
   ],
   "source": [
    "chain.invoke({\"input\": \"how can langsmith help with testing?\"})"
   ]
  },
  {
   "cell_type": "code",
   "execution_count": 8,
   "metadata": {},
   "outputs": [],
   "source": [
    "from langchain_core.output_parsers import StrOutputParser\n",
    "\n",
    "output_parser = StrOutputParser()"
   ]
  },
  {
   "cell_type": "code",
   "execution_count": 9,
   "metadata": {},
   "outputs": [],
   "source": [
    "chain = prompt | llm | output_parser"
   ]
  },
  {
   "cell_type": "code",
   "execution_count": 10,
   "metadata": {},
   "outputs": [
    {
     "data": {
      "text/plain": [
       "\"As a world-class technical documentation writer, I can attest that LangSmith can greatly assist with testing. Here are some ways in which LangSmith can aid in the testing process:\\n\\n1. Automated Testing: With LangSmith's AI-powered language model, you can create automated tests for your software or application. By inputting specific parameters and monitoring the output, LangSmith can identify potential issues and generate test cases to ensure proper functioning.\\n2. Regression Testing: When changes are made to your software, LangSmith can help with regression testing by identifying new test cases that cover the affected areas. This helps ensure that no new bugs or issues are introduced during the development process.\\n3. Test Data Generation: LangSmith can generate test data based on your specifications, such as user input, network requests, or system behavior. This can help you test various scenarios and inputs more efficiently and effectively.\\n4. Documentation Review: As a technical documentation writer, I can ensure that your testing documents are clear, concise, and up-to-date. LangSmith can assist in this process by reviewing and editing the documentation to ensure it meets quality standards.\\n5. Defect Reporting: If any issues are identified during testing, LangSmith can help generate defect reports with detailed descriptions, severity levels, and suggested fixes. This streamlines the debugging process and ensures that all issues are tracked and addressed in a timely manner.\\n6. Test Script Optimization: LangSmith's AI algorithms can analyze your existing test scripts and optimize them for better coverage and efficiency. This helps you save time and resources while still ensuring comprehensive testing.\\n7. Integration Testing: With LangSmith, you can integrate various testing tools and frameworks to create a unified testing environment. This allows for more effective collaboration and coordination among team members, as well as improved testing accuracy and efficiency.\\n8. Performance Testing: LangSmith can assist in performance testing by analyzing the system's response time, throughput, and resource usage under various loads. This helps identify bottlenecks and optimize the system for better performance.\\n9. Security Testing: As a technical documentation writer, I can ensure that your security testing documents are comprehensive and up-to-date. LangSmith can help review and edit these documents to ensure they meet quality standards and cover all necessary security testing areas.\\n10. Continuous Integration/Continuous Deployment (CI/CD): LangSmith can aid in CI/CD pipelines by automating testing tasks, such as unit testing, integration testing, and deployment. This streamlines the development process and ensures that your software is consistently tested and deployed with minimal errors or delays.\\n\\nIn summary, LangSmith's AI-powered language model can significantly enhance the testing process by automating various tasks, improving documentation quality, and optimizing test scripts for better coverage and efficiency.\""
      ]
     },
     "execution_count": 10,
     "metadata": {},
     "output_type": "execute_result"
    }
   ],
   "source": [
    "chain.invoke({\"input\": \"how can langsmith help with testing?\"})"
   ]
  },
  {
   "cell_type": "code",
   "execution_count": 11,
   "metadata": {},
   "outputs": [],
   "source": [
    "from langchain_community.llms import Ollama\n",
    "from langchain_community.chat_models import ChatOllama\n",
    "\n",
    "llm = Ollama(model=\"llama2\")\n",
    "chat_model = ChatOllama()"
   ]
  },
  {
   "cell_type": "code",
   "execution_count": 13,
   "metadata": {},
   "outputs": [
    {
     "ename": "ImportError",
     "evalue": "cannot import name 'run_in_gpu' from 'langchain' (C:\\Users\\nicol\\AppData\\Roaming\\Python\\Python311\\site-packages\\langchain\\__init__.py)",
     "output_type": "error",
     "traceback": [
      "\u001b[1;31m---------------------------------------------------------------------------\u001b[0m",
      "\u001b[1;31mImportError\u001b[0m                               Traceback (most recent call last)",
      "Cell \u001b[1;32mIn[13], line 2\u001b[0m\n\u001b[0;32m      1\u001b[0m \u001b[38;5;28;01mfrom\u001b[39;00m \u001b[38;5;21;01mlangchain\u001b[39;00m\u001b[38;5;21;01m.\u001b[39;00m\u001b[38;5;21;01mschema\u001b[39;00m \u001b[38;5;28;01mimport\u001b[39;00m HumanMessage\n\u001b[1;32m----> 2\u001b[0m \u001b[38;5;28;01mfrom\u001b[39;00m \u001b[38;5;21;01mlangchain\u001b[39;00m \u001b[38;5;28;01mimport\u001b[39;00m run_in_gpu\n\u001b[0;32m      4\u001b[0m text \u001b[38;5;241m=\u001b[39m \u001b[38;5;124m\"\u001b[39m\u001b[38;5;124mWhat would be a good company name for a company that makes colorful socks?\u001b[39m\u001b[38;5;124m\"\u001b[39m\n\u001b[0;32m      5\u001b[0m messages \u001b[38;5;241m=\u001b[39m [HumanMessage(content\u001b[38;5;241m=\u001b[39mtext)]\n",
      "\u001b[1;31mImportError\u001b[0m: cannot import name 'run_in_gpu' from 'langchain' (C:\\Users\\nicol\\AppData\\Roaming\\Python\\Python311\\site-packages\\langchain\\__init__.py)"
     ]
    }
   ],
   "source": [
    "from langchain.schema import HumanMessage\n",
    "\n",
    "\n",
    "text = \"What would be a good company name for a company that makes colorful socks?\"\n",
    "messages = [HumanMessage(content=text)]\n",
    "\n",
    "llm.invoke(text)\n",
    "# >> Feetful of Fun\n",
    "\n",
    "chat_model.invoke(messages)\n",
    "# >> AIMessage(content=\"Socks O'Color\")"
   ]
  },
  {
   "cell_type": "code",
   "execution_count": 14,
   "metadata": {},
   "outputs": [
    {
     "data": {
      "text/plain": [
       "'What is a good name for a company that makes colorful socks?'"
      ]
     },
     "execution_count": 14,
     "metadata": {},
     "output_type": "execute_result"
    }
   ],
   "source": [
    "from langchain.prompts import PromptTemplate\n",
    "\n",
    "prompt = PromptTemplate.from_template(\"What is a good name for a company that makes {product}?\")\n",
    "prompt.format(product=\"colorful socks\")"
   ]
  },
  {
   "cell_type": "code",
   "execution_count": 16,
   "metadata": {},
   "outputs": [
    {
     "data": {
      "text/plain": [
       "[SystemMessage(content='You are a helpful assistant that translates English to French.'),\n",
       " HumanMessage(content='I love programming.')]"
      ]
     },
     "execution_count": 16,
     "metadata": {},
     "output_type": "execute_result"
    }
   ],
   "source": [
    "from langchain.prompts.chat import ChatPromptTemplate\n",
    "\n",
    "template = \"You are a helpful assistant that translates {input_language} to {output_language}.\"\n",
    "human_template = \"{text}\"\n",
    "\n",
    "chat_prompt = ChatPromptTemplate.from_messages([\n",
    "    (\"system\", template),\n",
    "    (\"human\", human_template),\n",
    "])\n",
    "\n",
    "chat_prompt.format_messages(input_language=\"English\", output_language=\"French\", text=\"I love programming.\")"
   ]
  },
  {
   "cell_type": "code",
   "execution_count": 17,
   "metadata": {},
   "outputs": [
    {
     "data": {
      "text/plain": [
       "['hi', 'bye']"
      ]
     },
     "execution_count": 17,
     "metadata": {},
     "output_type": "execute_result"
    }
   ],
   "source": [
    "from langchain.output_parsers import CommaSeparatedListOutputParser\n",
    "\n",
    "output_parser = CommaSeparatedListOutputParser()\n",
    "output_parser.parse(\"hi, bye\")\n",
    "# >> ['hi', 'bye']"
   ]
  },
  {
   "cell_type": "code",
   "execution_count": 18,
   "metadata": {},
   "outputs": [
    {
     "data": {
      "text/plain": [
       "['Of course! Here are 5 colors for you:\\n\\nBlue',\n",
       " 'Green',\n",
       " 'Orange',\n",
       " 'Purple',\n",
       " 'Yellow']"
      ]
     },
     "execution_count": 18,
     "metadata": {},
     "output_type": "execute_result"
    }
   ],
   "source": [
    "template = \"Generate a list of 5 {text}.\\n\\n{format_instructions}\"\n",
    "\n",
    "chat_prompt = ChatPromptTemplate.from_template(template)\n",
    "chat_prompt = chat_prompt.partial(format_instructions=output_parser.get_format_instructions())\n",
    "chain = chat_prompt | chat_model | output_parser\n",
    "chain.invoke({\"text\": \"colors\"})\n",
    "# >> ['red', 'blue', 'green', 'yellow', 'orange']"
   ]
  }
 ],
 "metadata": {
  "kernelspec": {
   "display_name": "GathererImmo",
   "language": "python",
   "name": "python3"
  },
  "language_info": {
   "codemirror_mode": {
    "name": "ipython",
    "version": 3
   },
   "file_extension": ".py",
   "mimetype": "text/x-python",
   "name": "python",
   "nbconvert_exporter": "python",
   "pygments_lexer": "ipython3",
   "version": "3.11.5"
  }
 },
 "nbformat": 4,
 "nbformat_minor": 2
}
