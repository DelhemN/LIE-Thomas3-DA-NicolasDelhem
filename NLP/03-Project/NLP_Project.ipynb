{
 "cells": [
  {
   "cell_type": "code",
   "execution_count": 39,
   "metadata": {},
   "outputs": [
    {
     "name": "stdout",
     "output_type": "stream",
     "text": [
      "Accuracy on the test set: 0.8796\n"
     ]
    },
    {
     "name": "stderr",
     "output_type": "stream",
     "text": [
      "C:\\Users\\nicol\\AppData\\Roaming\\Python\\Python311\\site-packages\\sklearn\\linear_model\\_logistic.py:460: ConvergenceWarning: lbfgs failed to converge (status=1):\n",
      "STOP: TOTAL NO. of ITERATIONS REACHED LIMIT.\n",
      "\n",
      "Increase the number of iterations (max_iter) or scale the data as shown in:\n",
      "    https://scikit-learn.org/stable/modules/preprocessing.html\n",
      "Please also refer to the documentation for alternative solver options:\n",
      "    https://scikit-learn.org/stable/modules/linear_model.html#logistic-regression\n",
      "  n_iter_i = _check_optimize_result(\n"
     ]
    }
   ],
   "source": [
    "import os\n",
    "import glob\n",
    "import pandas as pd\n",
    "import numpy as np\n",
    "from sklearn.feature_extraction.text import CountVectorizer\n",
    "from sklearn.linear_model import LogisticRegression\n",
    "from sklearn.model_selection import train_test_split\n",
    "\n",
    "def extract_text_from_files(file_list):\n",
    "    extracted_texts = []\n",
    "    for file in file_list:\n",
    "        with open(file, \"r\", encoding='utf-8') as f:\n",
    "            extracted_texts.append(f.read())\n",
    "    return extracted_texts\n",
    "\n",
    "# Load positive reviews\n",
    "Train_Pos_Folder = r\"C:\\Users\\nicol\\OneDrive\\Bureau\\BECODE\\LIE-Thomas3-DA-NicolasDelhem\\NLP\\03-Project\\train\\pos\"\n",
    "file_list_pos = glob.glob(os.path.join(Train_Pos_Folder, \"*.txt\"))\n",
    "positive_texts = extract_text_from_files(file_list_pos)\n",
    "Positive = pd.DataFrame(positive_texts, columns=[\"Text\"])\n",
    "\n",
    "# Load negative reviews\n",
    "Train_Neg_Folder = r\"C:\\Users\\nicol\\OneDrive\\Bureau\\BECODE\\LIE-Thomas3-DA-NicolasDelhem\\NLP\\03-Project\\train\\neg\"\n",
    "file_list_neg = glob.glob(os.path.join(Train_Neg_Folder, \"*.txt\"))\n",
    "negative_texts = extract_text_from_files(file_list_neg)\n",
    "Negative = pd.DataFrame(negative_texts, columns=[\"Text\"])\n",
    "\n",
    "# Combine and shuffle data before splitting\n",
    "all_Reviews = pd.concat([Positive, Negative], ignore_index=True)\n",
    "all_labels = np.concatenate([np.ones(len(Positive)), np.zeros(len(Negative))])\n",
    "\n",
    "# CountVectorizer\n",
    "vectorizer = CountVectorizer()\n",
    "X = vectorizer.fit_transform(all_Reviews[\"Text\"])\n",
    "\n",
    "# Reshape y to have the same number of samples as X\n",
    "y = all_labels.reshape(-1, 1)\n",
    "\n",
    "# Split the data\n",
    "X_train, X_test, y_train, y_test = train_test_split(X, y, test_size=0.2, random_state=42)\n",
    "\n",
    "# Model initialization and training\n",
    "model = LogisticRegression()\n",
    "model.fit(X_train, y_train.ravel())\n",
    "\n",
    "# Model evaluation\n",
    "accuracy = model.score(X_test, y_test.ravel())\n",
    "print(f\"Accuracy on the test set: {accuracy}\")\n"
   ]
  }
 ],
 "metadata": {
  "kernelspec": {
   "display_name": "GathererImmo",
   "language": "python",
   "name": "python3"
  },
  "language_info": {
   "codemirror_mode": {
    "name": "ipython",
    "version": 3
   },
   "file_extension": ".py",
   "mimetype": "text/x-python",
   "name": "python",
   "nbconvert_exporter": "python",
   "pygments_lexer": "ipython3",
   "version": "3.11.5"
  }
 },
 "nbformat": 4,
 "nbformat_minor": 2
}
