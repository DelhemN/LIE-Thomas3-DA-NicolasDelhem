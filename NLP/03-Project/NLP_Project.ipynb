{
 "cells": [
  {
   "cell_type": "code",
   "execution_count": 18,
   "metadata": {},
   "outputs": [],
   "source": [
    "import os\n",
    "import glob\n",
    "import pandas as pd\n",
    "\n",
    "def extract_text_from_files(file_list):\n",
    "    extracted_texts = []\n",
    "    \n",
    "    for file in file_list:\n",
    "        with open(file, 'r') as f:\n",
    "            extracted_texts.append(f.read())\n",
    "    \n",
    "    return extracted_texts\n",
    "\n",
    "def write_to_csv(extracted_texts, output_file):\n",
    "    df = pd.DataFrame(extracted_texts, columns=['Text'])\n",
    "    df.to_csv(output_file, index=False)\n",
    "\n",
    "folder = r'NLP\\03-Project\\train\\neg'\n",
    "output_file = 'Neg_Train.csv'\n",
    "file_list = glob.glob(os.path.join(folder, '*.txt'))\n",
    "extracted_texts = extract_text_from_files(file_list)\n",
    "write_to_csv(extracted_texts, output_file)"
   ]
  },
  {
   "cell_type": "code",
   "execution_count": null,
   "metadata": {},
   "outputs": [],
   "source": []
  }
 ],
 "metadata": {
  "kernelspec": {
   "display_name": "GathererImmo",
   "language": "python",
   "name": "python3"
  },
  "language_info": {
   "codemirror_mode": {
    "name": "ipython",
    "version": 3
   },
   "file_extension": ".py",
   "mimetype": "text/x-python",
   "name": "python",
   "nbconvert_exporter": "python",
   "pygments_lexer": "ipython3",
   "version": "3.11.5"
  }
 },
 "nbformat": 4,
 "nbformat_minor": 2
}
