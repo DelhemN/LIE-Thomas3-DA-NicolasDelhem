{
 "cells": [
  {
   "cell_type": "markdown",
   "metadata": {},
   "source": [
    "# Embedding\n",
    "\n",
    "## Why Embedding?\n",
    "As we know, machines can't handle text, it can only handle numbers. But how to convert a word to numbers?\n",
    "\n",
    "The most naive approach would be to take a list of all the words in your text and attribute a number to all of them. It will work but you can imagine that some problems will appear:\n",
    "* How do you handle unknown words? \n",
    "* If your text contains `doctor`, `nurse`, and `candy`. `doctor` and `nurse` have a strong similarity but `candy` doesn't. How can we make the machine understand that? With our naive technique, `doctor` could have the number `5` associated to it and nurse the number `98767`.\n",
    "\n",
    "Of course, a lot of people already spent some time with those problems. the solution that came out of it is \"Embedding\". \n",
    "\n",
    "## What is embeddings?\n",
    "\n",
    "An embedding is a **VECTOR** which represents a word or a document.\n",
    "\n",
    "A vector will be attributed to each token. Each vector will contain multiple dimensions (usually tens or hundreds of dimensions).\n",
    "\n",
    "```\n",
    "[...] associate with each word in the vocabulary a distributed word feature vector [...] The feature vector represents different aspects of the word: each word is associated with a point in a vector space. The number of features [...] is much smaller than the size of the vocabulary.\n",
    "```\n",
    "- [A Neural Probabilistic Language Model](https://www.jmlr.org/papers/volume3/bengio03a/bengio03a.pdf), 2003.\n",
    "\n",
    "Long story short, embeddings convert words into vectors in a way that allows the machine to understand the similarity betweens them.\n",
    "\n",
    "Each embedding library has it's own way of classifying words, it will regroup words into big categories. Each word will get a score for each category.\n",
    "\n",
    "To take a simple example the word `mother` could be classified like that:\n",
    "\n",
    "|        | female | family | human | animal|\n",
    "|--------|--------|---------|-------|-------|\n",
    "| mother | 0.9    | 0.9.    | 0.7   | 0.1   |\n",
    "\n",
    "**Explanations:** Mother has a strong similarity with female, family and human but it has a low similarity with animal.\n",
    "\n",
    "**Disclaimer:** Those numbers and categories are totally arbitrary and are only here to show an example.\n",
    "\n",
    "Here is another example with more complete datas:\n",
    "\n",
    "![embedding](https://miro.medium.com/max/2598/1*sAJdxEsDjsPMioHyzlN3_A.png)\n",
    "\n",
    "## Should I do it by hand?\n",
    "\n",
    "You could, but if some people already did the job for you and spent a lot of time to optimize it, why not use it?\n",
    "\n",
    "## What to use?\n",
    "\n",
    "There are a lot of libraries out there for embeddings. Which one is the best? Once again, *it depends*. The results will change depending on the text you are using, the information you want to extract, the model you use,...\n",
    "\n",
    "Choosing the \"best\" embedding model will be part of the hyper-optimization that you can do at the end of a project.\n",
    "\n",
    "If you want understand embeddings more in depth, [follow this link](http://jalammar.github.io/illustrated-word2vec/)\n",
    "\n",
    "Here are some of the best libraries of the moment:\n",
    "\n",
    "* [Flair](https://github.com/flairNLP/flair) (University of Berlin)\n",
    "* [fasttext](https://fasttext.cc/) (Facebook)\n",
    "* [GloVe](https://github.com/stanfordnlp/GloVe) (Stanford)\n",
    "\n",
    "And the oldest way doing it (but still good):\n",
    "* [Word2Vec](https://www.tensorflow.org/tutorials/text/word2vec)"
   ]
  },
  {
   "cell_type": "markdown",
   "metadata": {},
   "source": [
    "## Practice time!\n",
    "\n",
    "Enough reading, let's practice a bit. Can you use SpaCy to embed this sentence?\n",
    "Read the [spacy embedding documentation](https://spacy.io/usage/vectors-similarity)"
   ]
  },
  {
   "cell_type": "code",
   "execution_count": 6,
   "metadata": {},
   "outputs": [
    {
     "data": {
      "text/plain": [
       "array([ 2.39983320e-01, -1.06209660e+00, -2.95990682e+00, -5.23593950e+00,\n",
       "       -5.40415335e+00,  2.67666608e-01,  2.92196655e+00,  3.54806685e+00,\n",
       "       -6.39629984e+00,  4.90658617e+00,  6.74523354e+00,  2.14170003e+00,\n",
       "       -4.34480667e+00, -6.97000027e-02,  4.38266659e+00, -3.47315335e+00,\n",
       "        2.75271988e+00, -5.66728354e+00, -3.12530017e+00,  2.94830012e+00,\n",
       "        2.51576328e+00,  3.09913349e+00, -1.62100077e-01, -7.27033377e+00,\n",
       "       -5.44466674e-01, -3.00806332e+00, -1.05390000e+00,  3.00240016e+00,\n",
       "       -2.40893340e+00,  3.56976676e+00, -8.29666480e-02, -4.25960970e+00,\n",
       "       -1.58640003e+00,  1.52206671e+00,  3.37690043e+00, -1.43614995e+00,\n",
       "       -1.27359998e+00, -1.59193337e-01,  4.60659981e+00, -1.13567734e+00,\n",
       "       -1.66092348e+00,  4.53066683e+00,  4.00620013e-01, -3.20064330e+00,\n",
       "        1.91626656e+00,  3.99963307e+00, -3.71499658e+00, -4.60459995e+00,\n",
       "        2.20325661e+00,  2.25965667e+00,  1.48266661e+00, -2.65656018e+00,\n",
       "       -2.50040025e-01, -3.59836674e+00, -2.62681699e+00, -1.11363329e-01,\n",
       "        9.42909896e-01,  1.83006668e+00,  4.09083319e+00,  1.59469986e+00,\n",
       "        6.85330009e+00, -4.86163288e-01,  6.89133346e-01,  5.57866633e-01,\n",
       "       -2.52785683e+00,  1.67473328e+00, -2.96161294e+00, -4.57613325e+00,\n",
       "        3.58456683e+00,  4.50549984e+00, -9.83099997e-01,  3.72436643e+00,\n",
       "        1.30526662e+00, -1.34251344e+00,  4.10831022e+00,  1.87748659e+00,\n",
       "       -4.87249994e+00,  9.20333490e-02, -2.11543345e+00, -5.16556692e+00,\n",
       "       -4.40513372e+00, -5.23143351e-01,  5.53590727e+00, -2.83140016e+00,\n",
       "       -1.27282336e-01,  6.20783329e-01, -2.28989974e-01,  3.54332924e-02,\n",
       "       -1.83293343e+00, -4.04059982e+00,  1.80079937e-01,  1.68661344e+00,\n",
       "        3.07621980e+00, -8.09353352e+00, -2.20210671e+00, -2.00469995e+00,\n",
       "       -2.15665507e-03, -4.04799986e+00,  1.70073330e+00, -1.12740004e+00,\n",
       "        2.05435348e+00,  4.00330019e+00,  1.34348679e+00,  3.19657016e+00,\n",
       "       -3.99671364e+00,  2.27954650e+00, -2.64774680e+00,  1.30940008e+00,\n",
       "       -3.55300021e+00,  4.07415360e-01,  7.41600096e-01, -5.69980001e+00,\n",
       "        1.49082649e+00, -1.41505003e+00,  2.26443338e+00,  1.78415668e+00,\n",
       "       -4.22329998e+00, -4.01060343e+00, -9.11333382e-01, -9.78433371e-01,\n",
       "       -5.32123327e+00,  6.16270006e-01, -5.36156654e+00,  2.62278318e+00,\n",
       "       -2.50132885e-02,  1.19029343e+00,  4.39753342e+00, -3.53906655e+00,\n",
       "       -1.49710014e-01, -2.30497336e+00, -2.35555339e+00,  2.03696012e+00,\n",
       "        1.87836647e-01, -2.00815320e+00, -1.44497669e+00,  2.71533084e+00,\n",
       "       -6.22259951e+00, -1.94505990e+00,  7.22643328e+00, -4.12346315e+00,\n",
       "       -6.27100050e-01,  1.44570005e+00,  1.87580013e+00,  1.33663332e+00,\n",
       "       -6.18664312e+00, -1.68843329e+00, -1.40253341e+00, -1.30022657e+00,\n",
       "       -4.70171642e+00, -2.83051991e+00, -2.40375662e+00,  5.87599993e-01,\n",
       "       -1.66309965e+00, -2.62928343e+00, -2.01419997e+00,  2.55193996e+00,\n",
       "        3.70604968e+00,  2.20096993e+00, -8.58186722e-01, -2.50956655e+00,\n",
       "       -1.49041665e+00, -4.82356358e+00, -3.86224008e+00,  1.28529990e+00,\n",
       "       -1.58422327e+00,  1.70840025e-01,  3.51846665e-01, -8.11850071e-01,\n",
       "       -4.21579981e+00,  5.72696626e-01,  2.17020345e+00, -2.66116619e-01,\n",
       "       -2.22583008e+00,  2.66119981e+00,  6.91476679e+00, -5.39793348e+00,\n",
       "       -1.09753358e+00, -9.53200102e-01,  1.32363331e+00, -1.90386665e+00,\n",
       "       -3.78433317e-01,  4.33500051e-01,  7.58793402e+00, -1.60925329e+00,\n",
       "       -2.47266674e+00,  4.94626665e+00,  5.64160049e-01, -6.31139994e+00,\n",
       "        3.76703358e+00,  3.92863345e+00, -1.51159334e+00,  2.89843345e+00,\n",
       "       -3.61128998e+00,  1.38339996e+00,  4.40099955e-01, -3.43290019e+00,\n",
       "       -6.11263323e+00,  2.18749332e+00, -3.42808652e+00,  4.03487015e+00,\n",
       "       -1.43874657e+00, -4.27551955e-01, -4.30783319e+00, -7.45033443e-01,\n",
       "       -2.00403333e+00, -1.78369999e+00,  3.05938697e+00, -6.47399962e-01,\n",
       "       -8.73746336e-01, -2.50613332e+00,  2.11980987e+00, -1.15665324e-01,\n",
       "        3.40034008e+00,  2.65805650e+00, -4.47183323e+00,  2.43269992e+00,\n",
       "       -2.31336665e+00,  2.80211234e+00, -3.44699807e-02,  6.73099995e-01,\n",
       "       -1.07896674e+00,  1.38672674e+00, -1.93250000e+00,  5.88436651e+00,\n",
       "        2.17833328e+00, -1.94091988e+00, -3.59296709e-01,  5.31236708e-01,\n",
       "        3.85711980e+00,  2.62206674e+00, -5.54003382e+00, -4.61779976e+00,\n",
       "        7.79266655e-01, -2.16946673e+00, -1.20466328e+00,  1.44163990e+00,\n",
       "       -4.22476673e+00,  5.97046661e+00, -1.16836995e-01, -1.32190335e+00,\n",
       "       -8.29244995e+00, -2.37609982e+00,  1.54626656e+00,  1.16632330e+00,\n",
       "        4.55093336e+00, -7.59666741e-01, -1.11766672e+00, -1.58157003e+00,\n",
       "        5.69388723e+00,  1.81418669e+00, -3.56083322e+00,  5.19013357e+00,\n",
       "       -5.93726683e+00,  4.43633318e-01, -1.67940009e+00, -2.18364334e+00,\n",
       "       -6.77033246e-01,  2.18633413e-01, -5.00327730e+00,  3.97890019e+00,\n",
       "        2.00473356e+00,  3.51124668e+00,  4.84526682e+00,  2.07977319e+00,\n",
       "        3.86376667e+00, -3.38849998e+00, -7.54999295e-02,  9.57171381e-01,\n",
       "       -5.43863344e+00,  1.13802993e+00,  4.65060085e-01, -2.88256669e+00,\n",
       "       -5.08806658e+00, -8.12849998e-01, -3.57876658e+00, -1.36026669e+00,\n",
       "        2.30568337e+00, -6.01646662e+00,  2.40893304e-01,  1.68076003e+00,\n",
       "       -5.49926710e+00, -4.08250666e+00,  3.09969997e+00,  6.59730017e-01,\n",
       "        2.46318674e+00, -6.50123298e-01,  2.32246661e+00,  2.43526673e+00,\n",
       "       -3.40509987e+00,  7.68766582e-01,  4.11244011e+00,  8.64299953e-01,\n",
       "        7.42046773e-01, -3.99353337e+00, -1.01827228e+00, -2.66016316e+00,\n",
       "        2.98791003e+00,  3.73500037e+00, -8.10220051e+00,  2.34649968e+00],\n",
       "      dtype=float32)"
      ]
     },
     "execution_count": 6,
     "metadata": {},
     "output_type": "execute_result"
    }
   ],
   "source": [
    "sentence = \"I love learning\"\n",
    "\n",
    "# Embed `sentence` with SpaCy\n",
    "\n",
    "import spacy\n",
    "nlp = spacy.load(\"en_core_web_lg\")\n",
    "doc = nlp(sentence)\n",
    "sentence_vector = doc.vector\n",
    "sentence_vector"
   ]
  },
  {
   "cell_type": "markdown",
   "metadata": {},
   "source": [
    "What is the shape of each word's vector?"
   ]
  },
  {
   "cell_type": "code",
   "execution_count": 7,
   "metadata": {},
   "outputs": [
    {
     "name": "stdout",
     "output_type": "stream",
     "text": [
      "(300,)\n"
     ]
    }
   ],
   "source": [
    "word_vector = doc[0].vector\n",
    "print(word_vector.shape)"
   ]
  },
  {
   "cell_type": "markdown",
   "metadata": {},
   "source": [
    "Try with Flair and Glove now (You will find how to do [here](https://github.com/flairNLP/flair/blob/master/resources/docs/TUTORIAL_3_WORD_EMBEDDING.md))"
   ]
  },
  {
   "cell_type": "code",
   "execution_count": 2,
   "metadata": {},
   "outputs": [
    {
     "name": "stdout",
     "output_type": "stream",
     "text": [
      "2024-01-02 15:16:52,495 https://flair.informatik.hu-berlin.de/resources/embeddings/token/glove.gensim.vectors.npy not found in cache, downloading to C:\\Users\\nicol\\AppData\\Local\\Temp\\tmph1eb3n_b\n"
     ]
    },
    {
     "name": "stderr",
     "output_type": "stream",
     "text": [
      "100%|██████████| 153M/153M [00:04<00:00, 37.6MB/s] "
     ]
    },
    {
     "name": "stdout",
     "output_type": "stream",
     "text": [
      "2024-01-02 15:16:57,094 copying C:\\Users\\nicol\\AppData\\Local\\Temp\\tmph1eb3n_b to cache at C:\\Users\\nicol\\.flair\\embeddings\\glove.gensim.vectors.npy\n",
      "2024-01-02 15:16:57,197 removing temp file C:\\Users\\nicol\\AppData\\Local\\Temp\\tmph1eb3n_b\n"
     ]
    },
    {
     "name": "stderr",
     "output_type": "stream",
     "text": [
      "\n"
     ]
    },
    {
     "name": "stdout",
     "output_type": "stream",
     "text": [
      "2024-01-02 15:16:57,572 https://flair.informatik.hu-berlin.de/resources/embeddings/token/glove.gensim not found in cache, downloading to C:\\Users\\nicol\\AppData\\Local\\Temp\\tmpk1jbvy47\n"
     ]
    },
    {
     "name": "stderr",
     "output_type": "stream",
     "text": [
      "100%|██████████| 20.5M/20.5M [00:00<00:00, 31.3MB/s]"
     ]
    },
    {
     "name": "stdout",
     "output_type": "stream",
     "text": [
      "2024-01-02 15:16:58,593 copying C:\\Users\\nicol\\AppData\\Local\\Temp\\tmpk1jbvy47 to cache at C:\\Users\\nicol\\.flair\\embeddings\\glove.gensim\n",
      "2024-01-02 15:16:58,610 removing temp file C:\\Users\\nicol\\AppData\\Local\\Temp\\tmpk1jbvy47\n"
     ]
    },
    {
     "name": "stderr",
     "output_type": "stream",
     "text": [
      "\n"
     ]
    },
    {
     "name": "stdout",
     "output_type": "stream",
     "text": [
      "The embedding for the word I is tensor([-0.0465,  0.6197,  0.5665, -0.4658, -1.1890,  0.4460,  0.0660,  0.3191,\n",
      "         0.1468, -0.2212,  0.7924,  0.2991,  0.1607,  0.0253,  0.1868, -0.3100,\n",
      "        -0.2811,  0.6051, -1.0654,  0.5248,  0.0642,  1.0358, -0.4078, -0.3801,\n",
      "         0.3080,  0.5996, -0.2699, -0.7603,  0.9422, -0.4692, -0.1828,  0.9065,\n",
      "         0.7967,  0.2482,  0.2571,  0.6232, -0.4477,  0.6536,  0.7690, -0.5123,\n",
      "        -0.4433, -0.2187,  0.3837, -1.1483, -0.9440, -0.1506,  0.3001, -0.5781,\n",
      "         0.2017, -1.6591, -0.0792,  0.0264,  0.2205,  0.9971, -0.5754, -2.7266,\n",
      "         0.3145,  0.7052,  1.4381,  0.9913,  0.1398,  1.3474, -1.1753,  0.0040,\n",
      "         1.0298,  0.0646,  0.9089,  0.8287, -0.4700, -0.1058,  0.5916, -0.4221,\n",
      "         0.5733, -0.5411,  0.1077,  0.3978, -0.0487,  0.0646, -0.6144, -0.2860,\n",
      "         0.5067, -0.4976, -0.8157,  0.1641, -1.9630, -0.2669, -0.3759, -0.9585,\n",
      "        -0.8584, -0.7158, -0.3234, -0.4312,  0.4139,  0.2837, -0.7093,  0.1500,\n",
      "        -0.2154, -0.3762, -0.0325,  0.8062])\n",
      "The embedding for the word love is tensor([ 2.5975e-01,  5.5833e-01,  5.7986e-01, -2.1361e-01,  1.3084e-01,\n",
      "         9.4385e-01, -4.2817e-01, -3.7420e-01, -9.4499e-02, -4.3344e-01,\n",
      "        -2.0937e-01,  3.4702e-01,  8.2516e-02,  7.9735e-01,  1.6606e-01,\n",
      "        -2.6878e-01,  5.8830e-01,  6.7397e-01, -4.9965e-01,  1.4764e+00,\n",
      "         5.5261e-01,  2.5295e-02, -1.6068e-01, -1.3878e-01,  4.8686e-01,\n",
      "         1.1420e+00,  5.6195e-02, -7.3306e-01,  8.6932e-01, -3.5892e-01,\n",
      "        -5.1877e-01,  9.0402e-01,  4.9249e-01, -1.4915e-01,  4.8493e-02,\n",
      "         2.6096e-01,  1.1352e-01,  4.1275e-01,  5.3803e-01, -4.4950e-01,\n",
      "         8.5733e-02,  9.1184e-02,  5.0177e-03, -3.4645e-01, -1.1058e-01,\n",
      "        -2.2235e-01, -6.5290e-01, -5.1838e-02,  5.3791e-01, -8.1040e-01,\n",
      "        -1.8253e-01,  2.4194e-01,  5.4855e-01,  8.7731e-01,  2.2165e-01,\n",
      "        -2.7124e+00,  4.9405e-01,  4.4703e-01,  5.5882e-01,  2.6076e-01,\n",
      "         2.3760e-01,  1.0668e+00, -5.6971e-01, -6.4960e-01,  3.3511e-01,\n",
      "         3.4609e-01,  1.1033e+00,  8.5261e-02,  2.4847e-02, -4.5453e-01,\n",
      "         7.7012e-02,  2.1321e-01,  1.0444e-01,  6.7157e-02, -3.4261e-01,\n",
      "         8.5534e-01,  1.3361e-01, -4.3296e-01, -5.6726e-01, -2.1348e-01,\n",
      "        -3.3277e-01,  3.4351e-01,  3.2164e-01,  4.4527e-01, -1.3208e+00,\n",
      "        -1.3270e-01, -7.0820e-01, -4.8472e-01, -6.9396e-01, -2.6080e-01,\n",
      "        -4.7099e-01, -5.7492e-02,  9.3587e-02,  4.0006e-01, -4.3419e-01,\n",
      "        -2.7364e-01, -7.7017e-01, -8.4028e-01, -1.5620e-03,  6.2223e-01])\n",
      "The embedding for the word learning is tensor([ 0.6481,  0.6988, -0.3995,  0.7763, -0.1313,  0.2024, -0.3340, -0.0067,\n",
      "         0.0617,  0.1885, -0.1056, -0.3132, -0.0825, -0.0805,  0.3858, -0.1030,\n",
      "         0.0494,  0.1722, -0.5908,  0.7707, -1.2768, -0.2519,  0.2195, -0.2018,\n",
      "        -0.3058, -0.1852,  0.0109, -0.0753, -0.3473,  0.6200, -0.9970,  1.0516,\n",
      "        -0.4207, -0.3963,  0.3261, -0.4006, -0.4646,  0.6990,  0.2957, -0.3531,\n",
      "        -0.5907,  0.2900, -0.2573, -0.1317, -0.6980,  0.4982,  0.4150,  0.1487,\n",
      "         0.0833, -0.4354, -0.0940, -0.3543,  0.0150,  0.6359,  0.5456, -1.8439,\n",
      "         0.7884, -0.1984,  1.5707,  0.2599,  0.2087,  0.7521, -0.0855, -0.7072,\n",
      "         0.0941,  0.4448,  0.0878, -0.3478,  0.5715,  0.1866, -0.2943,  0.4293,\n",
      "         0.2839, -0.6161, -0.3411,  0.5819, -0.1639, -0.0082, -0.2716, -0.2711,\n",
      "        -0.2147,  0.3738, -0.5352, -0.0609, -1.6317,  0.8514,  0.0560, -0.5386,\n",
      "        -0.5838, -0.1961, -0.3394, -0.3141,  0.2300,  0.3269,  0.0430, -0.0375,\n",
      "        -0.0921, -1.0734,  0.8924,  0.4178])\n"
     ]
    }
   ],
   "source": [
    "sentence = \"I love learning\"\n",
    "\n",
    "\n",
    "# Embed with Flair\n",
    "from flair.data import Sentence\n",
    "from flair.embeddings import WordEmbeddings\n",
    "\n",
    "# Create a Sentence object\n",
    "sentence = Sentence('I love learning')\n",
    "\n",
    "# Create an embedding\n",
    "glove_embedding = WordEmbeddings('glove')\n",
    "\n",
    "# Embed the sentence using the embedding\n",
    "glove_embedding.embed(sentence)\n",
    "\n",
    "# Now each token in the sentence has an embedding that can be accessed using the `embedding` attribute\n",
    "for token in sentence:\n",
    "    print(f'The embedding for the word {token.text} is {token.embedding}')"
   ]
  },
  {
   "cell_type": "code",
   "execution_count": null,
   "metadata": {},
   "outputs": [],
   "source": [
    "sentence = \"I love learning\"\n",
    "\n",
    "# Embed with Glove"
   ]
  },
  {
   "cell_type": "markdown",
   "metadata": {},
   "source": [
    "What is the shape of each word's vector?"
   ]
  },
  {
   "cell_type": "code",
   "execution_count": null,
   "metadata": {},
   "outputs": [],
   "source": []
  },
  {
   "cell_type": "markdown",
   "metadata": {},
   "source": [
    "Your text is now embedded, your model will be able to understand it, yeah!\n",
    "\n",
    "## Maths on text\n",
    "\n",
    "Since the words are embedded into vectors we can now apply mathematical methods on them.\n",
    "\n",
    "### Average vector\n",
    "\n",
    "For example we could build the average vector for a text by using NumPy! This is a straightforward way to build one single representation for a text."
   ]
  },
  {
   "cell_type": "code",
   "execution_count": null,
   "metadata": {},
   "outputs": [],
   "source": [
    "text = \"I want to be a famous data scientist\"\n",
    "\n",
    "# Apply a spacy model on the text\n",
    "\n",
    "# Get all word vectors into a list\n",
    "\n",
    "# Compute and display the average vector of the text"
   ]
  },
  {
   "cell_type": "markdown",
   "metadata": {},
   "source": [
    "### Word similarity\n",
    "\n",
    "We can also compute the similarity between two words by using distance measures (e.g. [cosine distance](https://docs.scipy.org/doc/scipy/reference/generated/scipy.spatial.distance.cosine.html), [euclidean distance](https://docs.scipy.org/doc/scipy/reference/generated/scipy.spatial.distance.euclidean.html)...). These measures will calculate the distance between word embeddings in the vector space.\n",
    "\n",
    "#### Let's practice!"
   ]
  },
  {
   "cell_type": "code",
   "execution_count": null,
   "metadata": {},
   "outputs": [],
   "source": [
    "# Import the required libraries\n",
    "\n",
    "word1 = \"computer\"\n",
    "word2 = \"keyboard\"\n",
    "\n",
    "# Get the vector for both words through your favorite model\n",
    "\n",
    "# Compute the cosine and the euclidean distance between both words\n",
    "\n",
    "# Try with other pairs of words for comparing the results"
   ]
  },
  {
   "cell_type": "markdown",
   "metadata": {},
   "source": [
    "## Stack embeddings\n",
    "\n",
    "The previous embeddings are good, but if you want something even better, you can \"stack\" these embeddings to create a bigger vector. It gives better results but will also require more computation power.\n",
    "\n",
    "[Here is a super clear and understandable guide](https://github.com/flairNLP/flair/blob/master/resources/docs/TUTORIAL_3_WORD_EMBEDDING.md) to get it done. (by the Flair's team)\n"
   ]
  },
  {
   "cell_type": "code",
   "execution_count": null,
   "metadata": {},
   "outputs": [],
   "source": []
  },
  {
   "cell_type": "markdown",
   "metadata": {},
   "source": [
    "## More resources\n",
    "* [Why do we use word embeddings in NLP?](https://towardsdatascience.com/why-do-we-use-embeddings-in-nlp-2f20e1b632d2)\n",
    "* [More details on what word embeddings are exactly?](https://www.analyticsvidhya.com/blog/2017/06/word-embeddings-count-word2veec/)"
   ]
  }
 ],
 "metadata": {
  "kernelspec": {
   "display_name": "Python 3.10.5 ('venv': venv)",
   "language": "python",
   "name": "python3"
  },
  "language_info": {
   "codemirror_mode": {
    "name": "ipython",
    "version": 3
   },
   "file_extension": ".py",
   "mimetype": "text/x-python",
   "name": "python",
   "nbconvert_exporter": "python",
   "pygments_lexer": "ipython3",
   "version": "3.11.5"
  },
  "vscode": {
   "interpreter": {
    "hash": "1ea57bea45b518cf48c15b34c69ddf5a63c6b38f630bac26c11b544b5b7ce7d8"
   }
  }
 },
 "nbformat": 4,
 "nbformat_minor": 2
}
