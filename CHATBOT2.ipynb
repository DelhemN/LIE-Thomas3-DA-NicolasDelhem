{
 "cells": [
  {
   "cell_type": "code",
   "execution_count": 5,
   "metadata": {},
   "outputs": [
    {
     "ename": "AttributeError",
     "evalue": "Could not find: LangChain",
     "output_type": "error",
     "traceback": [
      "\u001b[1;31m---------------------------------------------------------------------------\u001b[0m",
      "\u001b[1;31mAttributeError\u001b[0m                            Traceback (most recent call last)",
      "Cell \u001b[1;32mIn[5], line 5\u001b[0m\n\u001b[0;32m      2\u001b[0m \u001b[38;5;28;01mimport\u001b[39;00m \u001b[38;5;21;01mtransformers\u001b[39;00m\n\u001b[0;32m      4\u001b[0m \u001b[38;5;66;03m# Initialize LangChain\u001b[39;00m\n\u001b[1;32m----> 5\u001b[0m chain \u001b[38;5;241m=\u001b[39m \u001b[43mlangchain\u001b[49m\u001b[38;5;241;43m.\u001b[39;49m\u001b[43mLangChain\u001b[49m()\n\u001b[0;32m      7\u001b[0m \u001b[38;5;66;03m# Load the StarCoder model and tokenizer from Hugging Face Transformers\u001b[39;00m\n\u001b[0;32m      8\u001b[0m model \u001b[38;5;241m=\u001b[39m transformers\u001b[38;5;241m.\u001b[39mAutoModelForCausalLM\u001b[38;5;241m.\u001b[39mfrom_pretrained(\u001b[38;5;124m\"\u001b[39m\u001b[38;5;124mbigcode/starcoderbase\u001b[39m\u001b[38;5;124m\"\u001b[39m)\n",
      "File \u001b[1;32m~\\AppData\\Roaming\\Python\\Python311\\site-packages\\langchain\\__init__.py:386\u001b[0m, in \u001b[0;36m__getattr__\u001b[1;34m(name)\u001b[0m\n\u001b[0;32m    384\u001b[0m     \u001b[38;5;28;01mreturn\u001b[39;00m _llm_cache\n\u001b[0;32m    385\u001b[0m \u001b[38;5;28;01melse\u001b[39;00m:\n\u001b[1;32m--> 386\u001b[0m     \u001b[38;5;28;01mraise\u001b[39;00m \u001b[38;5;167;01mAttributeError\u001b[39;00m(\u001b[38;5;124mf\u001b[39m\u001b[38;5;124m\"\u001b[39m\u001b[38;5;124mCould not find: \u001b[39m\u001b[38;5;132;01m{\u001b[39;00mname\u001b[38;5;132;01m}\u001b[39;00m\u001b[38;5;124m\"\u001b[39m)\n",
      "\u001b[1;31mAttributeError\u001b[0m: Could not find: LangChain"
     ]
    }
   ],
   "source": [
    "import langchain\n",
    "import transformers\n",
    "\n",
    "# Initialize LangChain\n",
    "chain = langchain.LangChain()\n",
    "\n",
    "# Load the StarCoder model and tokenizer from Hugging Face Transformers\n",
    "model = transformers.AutoModelForCausalLM.from_pretrained(\"bigcode/starcoderbase\")\n",
    "tokenizer = transformers.AutoTokenizer.from_pretrained(\"bigcode/starcoderbase\")\n",
    "\n",
    "# Add the special chat tokens to the tokenizer's vocabulary\n",
    "tokenizer.add_special_tokens({\"additional_special_tokens\": [\"<|system|>\", \"<|assistant|>\", \"<|user|>\", \"<|end|>\"]})\n",
    "\n",
    "# Set the model and tokenizer in the LangChain instance\n",
    "chain.model = model\n",
    "chain.tokenizer = tokenizer\n",
    "\n",
    "# Define a function for the chatbot to generate a response\n",
    "async def generate_response(prompt: str) -> str:\n",
    "    # Prepare the dialogue with the special chat tokens\n",
    "    dialogue = chain.prepare_dialogue(prompt)\n",
    "    \n",
    "    # Encode the dialogue into input IDs\n",
    "    input_ids = chain.tokenizer.encode(dialogue)\n",
    "    \n",
    "    # Generate the response using the model\n",
    "    response = chain.model.generate(input_ids, max_length=1024, pad_token_id=chain.tokenizer.pad_token_id, eos_token_id=chain.tokenizer.eos_token_id)\n",
    "    \n",
    "    # Decode the response into text\n",
    "    generated_text = chain.tokenizer.decode(response[0])\n",
    "    \n",
    "    # Extract the assistant's response from the generated text\n",
    "    assistant_response = generated_text.split(\"<|end|>\")[1].strip()\n",
    "    \n",
    "    return assistant_response\n",
    "\n",
    "# Example usage\n",
    "response = await generate_response(\"<|user|>Can you help me with this Python code?<|end|>\\n<|assistant|>Sure, what seems to be the problem?<|end|>\\n<|user|>I'm getting a 'TypeError: list indices must be integers or slices, not str'<|end|>\")\n",
    "print(response)"
   ]
  }
 ],
 "metadata": {
  "kernelspec": {
   "display_name": "GathererImmo",
   "language": "python",
   "name": "python3"
  },
  "language_info": {
   "codemirror_mode": {
    "name": "ipython",
    "version": 3
   },
   "file_extension": ".py",
   "mimetype": "text/x-python",
   "name": "python",
   "nbconvert_exporter": "python",
   "pygments_lexer": "ipython3",
   "version": "3.11.5"
  }
 },
 "nbformat": 4,
 "nbformat_minor": 2
}
